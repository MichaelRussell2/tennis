{
 "cells": [
  {
   "cell_type": "code",
   "execution_count": 1,
   "metadata": {},
   "outputs": [],
   "source": [
    "import pandas as pd\n",
    "import numpy as np\n",
    "import matplotlib.pyplot as plt\n",
    "import math\n",
    "import time"
   ]
  },
  {
   "cell_type": "code",
   "execution_count": 2,
   "metadata": {},
   "outputs": [
    {
     "data": {
      "text/plain": [
       "['match_id',\n",
       " 'ElapsedTime',\n",
       " 'SetNo',\n",
       " 'P1GamesWon',\n",
       " 'P2GamesWon',\n",
       " 'SetWinner',\n",
       " 'GameNo',\n",
       " 'GameWinner',\n",
       " 'PointNumber',\n",
       " 'PointWinner',\n",
       " 'PointServer',\n",
       " 'Speed_KMH',\n",
       " 'Rally',\n",
       " 'P1Score',\n",
       " 'P2Score',\n",
       " 'P1Momentum',\n",
       " 'P2Momentum',\n",
       " 'P1PointsWon',\n",
       " 'P2PointsWon',\n",
       " 'P1Ace',\n",
       " 'P2Ace',\n",
       " 'P1Winner',\n",
       " 'P2Winner',\n",
       " 'P1DoubleFault',\n",
       " 'P2DoubleFault',\n",
       " 'P1UnfErr',\n",
       " 'P2UnfErr',\n",
       " 'P1NetPoint',\n",
       " 'P2NetPoint',\n",
       " 'P1NetPointWon',\n",
       " 'P2NetPointWon',\n",
       " 'P1BreakPoint',\n",
       " 'P2BreakPoint',\n",
       " 'P1BreakPointWon',\n",
       " 'P2BreakPointWon',\n",
       " 'P1FirstSrvIn',\n",
       " 'P2FirstSrvIn',\n",
       " 'P1FirstSrvWon',\n",
       " 'P2FirstSrvWon',\n",
       " 'P1SecondSrvIn',\n",
       " 'P2SecondSrvIn',\n",
       " 'P1SecondSrvWon',\n",
       " 'P2SecondSrvWon',\n",
       " 'P1ForcedError',\n",
       " 'P2ForcedError',\n",
       " 'History',\n",
       " 'Speed_MPH',\n",
       " 'P1BreakPointMissed',\n",
       " 'P2BreakPointMissed',\n",
       " 'ServeIndicator',\n",
       " 'Serve_Direction',\n",
       " 'Winner_FH',\n",
       " 'Winner_BH',\n",
       " 'ServingTo',\n",
       " 'P1TurningPoint',\n",
       " 'P2TurningPoint',\n",
       " 'ServeNumber',\n",
       " 'WinnerType',\n",
       " 'WinnerShotType',\n",
       " 'P1DistanceRun',\n",
       " 'P2DistanceRun',\n",
       " 'RallyCount',\n",
       " 'ServeWidth',\n",
       " 'ServeDepth',\n",
       " 'ReturnDepth']"
      ]
     },
     "execution_count": 2,
     "metadata": {},
     "output_type": "execute_result"
    }
   ],
   "source": [
    "data = pd.read_csv('wimbledon_points.csv')\n",
    "list(data)"
   ]
  },
  {
   "cell_type": "code",
   "execution_count": 11,
   "metadata": {},
   "outputs": [
    {
     "data": {
      "text/plain": [
       "0     NaN\n",
       "1     NaN\n",
       "2     NaN\n",
       "3     NaN\n",
       "4     NaN\n",
       "5     NaN\n",
       "6     NaN\n",
       "7     NaN\n",
       "8     NaN\n",
       "9     NaN\n",
       "10    NaN\n",
       "11    NaN\n",
       "12    NaN\n",
       "13    NaN\n",
       "14    NaN\n",
       "15    NaN\n",
       "16    NaN\n",
       "17    NaN\n",
       "18    NaN\n",
       "19    NaN\n",
       "20    NaN\n",
       "21    NaN\n",
       "22    NaN\n",
       "23    NaN\n",
       "24    NaN\n",
       "25    NaN\n",
       "26    NaN\n",
       "27    NaN\n",
       "28    NaN\n",
       "29    NaN\n",
       "       ..\n",
       "140   NaN\n",
       "141   NaN\n",
       "142   NaN\n",
       "143   NaN\n",
       "144   NaN\n",
       "145   NaN\n",
       "146   NaN\n",
       "147   NaN\n",
       "148   NaN\n",
       "149   NaN\n",
       "150   NaN\n",
       "151   NaN\n",
       "152   NaN\n",
       "153   NaN\n",
       "154   NaN\n",
       "155   NaN\n",
       "156   NaN\n",
       "157   NaN\n",
       "158   NaN\n",
       "159   NaN\n",
       "160   NaN\n",
       "161   NaN\n",
       "162   NaN\n",
       "163   NaN\n",
       "164   NaN\n",
       "165   NaN\n",
       "166   NaN\n",
       "167   NaN\n",
       "168   NaN\n",
       "169   NaN\n",
       "Name: P1FirstSrvIn, Length: 170, dtype: float64"
      ]
     },
     "execution_count": 11,
     "metadata": {},
     "output_type": "execute_result"
    }
   ],
   "source": [
    "data.loc[data['match_id'] == '2017-wimbledon-1101'][\"P1FirstSrvIn\"]"
   ]
  },
  {
   "cell_type": "code",
   "execution_count": 4,
   "metadata": {},
   "outputs": [
    {
     "data": {
      "text/plain": [
       "['Rally',\n",
       " 'P1FirstSrvIn',\n",
       " 'P2FirstSrvIn',\n",
       " 'P1FirstSrvWon',\n",
       " 'P2FirstSrvWon',\n",
       " 'P1SecondSrvIn',\n",
       " 'P2SecondSrvIn',\n",
       " 'P1SecondSrvWon',\n",
       " 'P2SecondSrvWon',\n",
       " 'P1ForcedError',\n",
       " 'P2ForcedError',\n",
       " 'Serve_Direction',\n",
       " 'Winner_FH',\n",
       " 'Winner_BH',\n",
       " 'ServingTo',\n",
       " 'P1TurningPoint',\n",
       " 'P2TurningPoint']"
      ]
     },
     "execution_count": 4,
     "metadata": {},
     "output_type": "execute_result"
    }
   ],
   "source": [
    "## list completely missing data\n",
    "[x for x in list(data) if (all(pd.isnull(data[x])) )]"
   ]
  },
  {
   "cell_type": "code",
   "execution_count": 5,
   "metadata": {},
   "outputs": [
    {
     "data": {
      "text/plain": [
       "['History', 'ServeNumber', 'ServeWidth', 'ServeDepth', 'ReturnDepth']"
      ]
     },
     "execution_count": 5,
     "metadata": {},
     "output_type": "execute_result"
    }
   ],
   "source": [
    "## list partially missing data\n",
    "[x for x in list(data) if (any(pd.isnull(data[x])) and not all(pd.isnull(data[x])) )]"
   ]
  },
  {
   "cell_type": "code",
   "execution_count": 6,
   "metadata": {},
   "outputs": [
    {
     "data": {
      "text/plain": [
       "['match_id',\n",
       " 'ElapsedTime',\n",
       " 'SetNo',\n",
       " 'P1GamesWon',\n",
       " 'P2GamesWon',\n",
       " 'SetWinner',\n",
       " 'GameNo',\n",
       " 'GameWinner',\n",
       " 'PointNumber',\n",
       " 'PointWinner',\n",
       " 'PointServer',\n",
       " 'Speed_KMH',\n",
       " 'P1Score',\n",
       " 'P2Score',\n",
       " 'P1Momentum',\n",
       " 'P2Momentum',\n",
       " 'P1PointsWon',\n",
       " 'P2PointsWon',\n",
       " 'P1Ace',\n",
       " 'P2Ace',\n",
       " 'P1Winner',\n",
       " 'P2Winner',\n",
       " 'P1DoubleFault',\n",
       " 'P2DoubleFault',\n",
       " 'P1UnfErr',\n",
       " 'P2UnfErr',\n",
       " 'P1NetPoint',\n",
       " 'P2NetPoint',\n",
       " 'P1NetPointWon',\n",
       " 'P2NetPointWon',\n",
       " 'P1BreakPoint',\n",
       " 'P2BreakPoint',\n",
       " 'P1BreakPointWon',\n",
       " 'P2BreakPointWon',\n",
       " 'Speed_MPH',\n",
       " 'P1BreakPointMissed',\n",
       " 'P2BreakPointMissed',\n",
       " 'ServeIndicator',\n",
       " 'WinnerType',\n",
       " 'WinnerShotType',\n",
       " 'P1DistanceRun',\n",
       " 'P2DistanceRun',\n",
       " 'RallyCount']"
      ]
     },
     "execution_count": 6,
     "metadata": {},
     "output_type": "execute_result"
    }
   ],
   "source": [
    "##list complete data\n",
    "[x for x in list(data) if not any(pd.isnull(data[x]))]"
   ]
  },
  {
   "cell_type": "code",
   "execution_count": 119,
   "metadata": {},
   "outputs": [
    {
     "name": "stdout",
     "output_type": "stream",
     "text": [
      "10\n",
      "True\n"
     ]
    }
   ],
   "source": [
    "## get total number of player 1 unforced errors in first match\n",
    "print data.loc[data['match_id'] == '2017-wimbledon-1101'][\"P1UnfErr\"].sum()\n",
    "\n",
    "## did they win?\n",
    "## no direct data on this, but of course they won the match if they won the last point\n",
    "print (data.loc[data['match_id'] == '2017-wimbledon-1101'][-1:][\"PointWinner\"]==1).item()"
   ]
  },
  {
   "cell_type": "code",
   "execution_count": 64,
   "metadata": {},
   "outputs": [
    {
     "data": {
      "text/html": [
       "<div>\n",
       "<style scoped>\n",
       "    .dataframe tbody tr th:only-of-type {\n",
       "        vertical-align: middle;\n",
       "    }\n",
       "\n",
       "    .dataframe tbody tr th {\n",
       "        vertical-align: top;\n",
       "    }\n",
       "\n",
       "    .dataframe thead th {\n",
       "        text-align: right;\n",
       "    }\n",
       "</style>\n",
       "<table border=\"1\" class=\"dataframe\">\n",
       "  <thead>\n",
       "    <tr style=\"text-align: right;\">\n",
       "      <th></th>\n",
       "      <th>match_id</th>\n",
       "      <th>ElapsedTime</th>\n",
       "      <th>SetNo</th>\n",
       "      <th>P1GamesWon</th>\n",
       "      <th>P2GamesWon</th>\n",
       "      <th>SetWinner</th>\n",
       "      <th>GameNo</th>\n",
       "      <th>GameWinner</th>\n",
       "      <th>PointNumber</th>\n",
       "      <th>PointWinner</th>\n",
       "      <th>...</th>\n",
       "      <th>P2TurningPoint</th>\n",
       "      <th>ServeNumber</th>\n",
       "      <th>WinnerType</th>\n",
       "      <th>WinnerShotType</th>\n",
       "      <th>P1DistanceRun</th>\n",
       "      <th>P2DistanceRun</th>\n",
       "      <th>RallyCount</th>\n",
       "      <th>ServeWidth</th>\n",
       "      <th>ServeDepth</th>\n",
       "      <th>ReturnDepth</th>\n",
       "    </tr>\n",
       "  </thead>\n",
       "  <tbody>\n",
       "    <tr>\n",
       "      <th>169</th>\n",
       "      <td>2017-wimbledon-1101</td>\n",
       "      <td>1:58:17</td>\n",
       "      <td>3</td>\n",
       "      <td>6</td>\n",
       "      <td>2</td>\n",
       "      <td>1</td>\n",
       "      <td>8</td>\n",
       "      <td>1</td>\n",
       "      <td>169</td>\n",
       "      <td>1</td>\n",
       "      <td>...</td>\n",
       "      <td>NaN</td>\n",
       "      <td>2.0</td>\n",
       "      <td>0</td>\n",
       "      <td>0</td>\n",
       "      <td>19.431</td>\n",
       "      <td>12.769</td>\n",
       "      <td>5</td>\n",
       "      <td>BC</td>\n",
       "      <td>NCTL</td>\n",
       "      <td>ND</td>\n",
       "    </tr>\n",
       "  </tbody>\n",
       "</table>\n",
       "<p>1 rows × 65 columns</p>\n",
       "</div>"
      ],
      "text/plain": [
       "                match_id ElapsedTime  SetNo  P1GamesWon  P2GamesWon  \\\n",
       "169  2017-wimbledon-1101     1:58:17      3           6           2   \n",
       "\n",
       "     SetWinner  GameNo  GameWinner  PointNumber  PointWinner     ...       \\\n",
       "169          1       8           1          169            1     ...        \n",
       "\n",
       "     P2TurningPoint  ServeNumber  WinnerType WinnerShotType P1DistanceRun  \\\n",
       "169             NaN          2.0           0              0        19.431   \n",
       "\n",
       "     P2DistanceRun  RallyCount  ServeWidth  ServeDepth  ReturnDepth  \n",
       "169         12.769           5          BC        NCTL           ND  \n",
       "\n",
       "[1 rows x 65 columns]"
      ]
     },
     "execution_count": 64,
     "metadata": {},
     "output_type": "execute_result"
    }
   ],
   "source": [
    "#info on last point of first match\n",
    "data.loc[data['match_id'] == '2017-wimbledon-1101'][-1:]"
   ]
  },
  {
   "cell_type": "code",
   "execution_count": 22,
   "metadata": {},
   "outputs": [
    {
     "name": "stdout",
     "output_type": "stream",
     "text": [
      "23  average unforced errors\n",
      "8.39847803116 seconds taken\n"
     ]
    }
   ],
   "source": [
    "## probability to win vs. total unforced errors\n",
    "\n",
    "## store number of p1 unforced errors and won/lost\n",
    "## @TODO: why is this so slow!?\n",
    "start = time.time()\n",
    "mean_unferr=0\n",
    "matches=data['match_id'].unique()\n",
    "nmatches=len(matches)\n",
    "win1, win2, win, unferrs = np.zeros(nmatches), np.zeros(nmatches), np.zeros(nmatches), np.zeros(nmatches)\n",
    "for ix, x in enumerate(matches):\n",
    "#    print data.loc [ data['match_id'] == x][\"P1UnfErr\"].sum()\n",
    "    win1[ix] = 1 if (data.loc[data['match_id'] == x][-1:][\"PointWinner\"]==1).item() else 0\n",
    "    win2[ix] = 1 if (data.loc[data['match_id'] == x][-1:][\"PointWinner\"]==2).item() else 0\n",
    "    win[ix] = 1 if ((data.loc[data['match_id'] == x][-1:][\"PointWinner\"]==1).item() or (data.loc[data['match_id'] == x][-1:][\"PointWinner\"]==2).item()) else 0\n",
    "    mean_unferr += data.loc [ data['match_id'] == x][\"P1UnfErr\"].sum()\n",
    "    unferrs[ix] = data.loc [ data['match_id'] == x][\"P1UnfErr\"].sum()\n",
    "\n",
    "mean_unferr /= len(data['match_id'].unique())\n",
    "print mean_unferr, ' average unforced errors'   \n",
    "print time.time()-start, 'seconds taken'"
   ]
  },
  {
   "cell_type": "code",
   "execution_count": 24,
   "metadata": {
    "scrolled": true
   },
   "outputs": [
    {
     "data": {
      "image/png": "[encoded data removed]",
      "text/plain": [
       "<matplotlib.figure.Figure at 0x10e5f1390>"
      ]
     },
     "metadata": {},
     "output_type": "display_data"
    }
   ],
   "source": [
    "## for matches where player 1 won\n",
    "## print fraction won vs. minimum no. unforced errors\n",
    "## \n",
    "steps, prob1, prob2, prob = [], [], [], []\n",
    "for step in xrange(0,60,5):\n",
    "#    print step, sum([ unferrs[ix] >= step and win[ix]==1 for ix, x in enumerate(unferrs)])/float(sum(win))\n",
    "    steps.append(step)\n",
    "    prob1.append(sum([ unferrs[ix] >= step and win1[ix]==1 for ix, x in enumerate(unferrs)])/float(sum(win1)) )\n",
    "    prob2.append(sum([ unferrs[ix] >= step and win2[ix]==1 for ix, x in enumerate(unferrs)])/float(sum(win2)) )\n",
    "    prob.append(sum([ unferrs[ix] >= step and win[ix]==1 for ix, x in enumerate(unferrs)])/float(sum(win)) )\n",
    "    \n",
    "plt.xlabel(\"# or more unforced errors\")\n",
    "plt.ylabel(\"Winning fraction\")\n",
    "plt.plot(steps,prob1)\n",
    "plt.plot(steps,prob2)\n",
    "plt.plot(steps,prob)\n",
    "plt.legend(['p1','p2','both'])\n",
    "plt.show()\n",
    "##this is saying: of those who won, who won with N or more unforced errors\n",
    "## what about probability to win vs unforced errors\n",
    "## = N(matches where p1 won with >= x unforced errors)/N(matches)\n",
    "##  + N(matches where p2 won with >= x unforced errora)/N(matches)"
   ]
  },
  {
   "cell_type": "code",
   "execution_count": 10,
   "metadata": {},
   "outputs": [
    {
     "name": "stdout",
     "output_type": "stream",
     "text": [
      "1\n"
     ]
    }
   ],
   "source": [
    "print data.loc[data['match_id'] == '2017-wimbledon-1101'][-1:][\"PointWinner\"].item()"
   ]
  },
  {
   "cell_type": "code",
   "execution_count": 13,
   "metadata": {},
   "outputs": [],
   "source": [
    "mean_unferr=0\n",
    "matches=data['match_id'].unique()\n",
    "nmatches=len(matches)"
   ]
  },
  {
   "cell_type": "code",
   "execution_count": 45,
   "metadata": {},
   "outputs": [],
   "source": [
    "winner_unferrs, loser_unferrs = np.zeros(nmatches), np.zeros(nmatches)\n",
    "winner_aces, loser_aces = np.zeros(nmatches), np.zeros(nmatches)\n",
    "winner_winners, loser_winners = np.zeros(nmatches), np.zeros(nmatches)\n",
    "\n",
    "\n",
    "for ix, x in enumerate(matches):\n",
    "    #p1 won, p2 lost\n",
    "    if (data.loc[data['match_id'] == x][-1:][\"PointWinner\"]==1).item():\n",
    "        \n",
    "        #unforced errors\n",
    "        winner_unferrs[ix] += data.loc [ data['match_id'] == x][\"P1UnfErr\"].sum()\n",
    "        loser_unferrs[ix] += data.loc [ data['match_id'] == x][\"P2UnfErr\"].sum()\n",
    "        \n",
    "        #aces\n",
    "#        print 'match id:', x, 'aces:', data.loc [ data['match_id'] == x][\"P1Ace\"].sum()\n",
    "        winner_aces[ix] += data.loc [ data['match_id'] == x][\"P1Ace\"].sum()\n",
    "        loser_aces[ix] += data.loc [ data['match_id'] == x][\"P2Ace\"].sum()\n",
    "        \n",
    "        #winners\n",
    "        winner_winners[ix] += data.loc [ data['match_id'] == x][\"P1Winner\"].sum()\n",
    "        loser_winners[ix] += data.loc [ data['match_id'] == x][\"P2Winner\"].sum()\n",
    "        \n",
    "    #vice versa\n",
    "    else:\n",
    "        loser_unferrs[ix] += data.loc [ data['match_id'] == x][\"P1UnfErr\"].sum()\n",
    "        winner_unferrs[ix] += data.loc [ data['match_id'] == x][\"P2UnfErr\"].sum()\n",
    "        \n",
    "        loser_aces[ix] += data.loc [ data['match_id'] == x][\"P1Ace\"].sum()\n",
    "        winner_aces[ix] += data.loc [ data['match_id'] == x][\"P2Ace\"].sum()\n",
    "        \n",
    "        loser_winners[ix] += data.loc [ data['match_id'] == x][\"P1Winner\"].sum()\n",
    "        winner_winners[ix] += data.loc [ data['match_id'] == x][\"P2Winner\"].sum()\n"
   ]
  },
  {
   "cell_type": "code",
   "execution_count": 67,
   "metadata": {},
   "outputs": [
    {
     "data": {
      "text/plain": [
       "<matplotlib.figure.Figure at 0x10e5795d0>"
      ]
     },
     "metadata": {},
     "output_type": "display_data"
    },
    {
     "data": {
      "image/png": "[encoded data removed]",
      "text/plain": [
       "<matplotlib.figure.Figure at 0x10fd94650>"
      ]
     },
     "metadata": {},
     "output_type": "display_data"
    }
   ],
   "source": [
    "xmin, xmax, nbins = 0, 100, 25\n",
    "plt.clf()\n",
    "plt.figure(figsize=(12,12))\n",
    "plt.subplot(221)\n",
    "plt.hist(winner_unferrs, bins=np.linspace(xmin,xmax,nbins+1), alpha=0.4, normed=False,label='player won')\n",
    "plt.hist(loser_unferrs, bins=np.linspace(xmin,xmax,nbins+1), alpha=0.4, normed=False,label='player lost')\n",
    "plt.xlabel('no. of unforced errors')\n",
    "plt.legend()\n",
    "\n",
    "plt.subplot(222)\n",
    "plt.hist(winner_aces, bins=np.linspace(xmin,xmax,nbins+1), alpha=0.4, normed=False,label='player won')\n",
    "plt.hist(loser_aces, bins=np.linspace(xmin,xmax,nbins+1), alpha=0.4, normed=False,label='player lost')\n",
    "plt.xlabel('no. of aces')\n",
    "plt.legend()\n",
    "#plt.show()\n",
    "\n",
    "plt.subplot(223)\n",
    "plt.hist(winner_winners, bins=np.linspace(xmin,xmax,nbins+1), alpha=0.4, normed=False,label='player won')\n",
    "plt.hist(loser_winners, bins=np.linspace(xmin,xmax,nbins+1), alpha=0.4, normed=False,label='player lost')\n",
    "plt.xlabel('no. of winners')\n",
    "plt.legend()\n",
    "plt.show()"
   ]
  },
  {
   "cell_type": "code",
   "execution_count": 41,
   "metadata": {},
   "outputs": [
    {
     "data": {
      "text/plain": [
       "254"
      ]
     },
     "execution_count": 41,
     "metadata": {},
     "output_type": "execute_result"
    }
   ],
   "source": [
    "len(winner_aces)"
   ]
  },
  {
   "cell_type": "code",
   "execution_count": null,
   "metadata": {},
   "outputs": [],
   "source": []
  }
 ],
 "metadata": {
  "kernelspec": {
   "display_name": "Python 2",
   "language": "python",
   "name": "python2"
  },
  "language_info": {
   "codemirror_mode": {
    "name": "ipython",
    "version": 2
   },
   "file_extension": ".py",
   "mimetype": "text/x-python",
   "name": "python",
   "nbconvert_exporter": "python",
   "pygments_lexer": "ipython2",
   "version": "2.7.10"
  }
 },
 "nbformat": 4,
 "nbformat_minor": 2
}
